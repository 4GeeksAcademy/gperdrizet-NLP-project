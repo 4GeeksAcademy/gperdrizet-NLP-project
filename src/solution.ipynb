{
 "cells": [
  {
   "cell_type": "markdown",
   "metadata": {},
   "source": [
    "# Natural language processing: spam detection"
   ]
  },
  {
   "cell_type": "code",
   "execution_count": null,
   "metadata": {},
   "outputs": [
    {
     "name": "stderr",
     "output_type": "stream",
     "text": [
      "[nltk_data] Downloading package stopwords to /home/vscode/nltk_data...\n",
      "[nltk_data]   Package stopwords is already up-to-date!\n"
     ]
    }
   ],
   "source": [
    "# Python standard library imports\n",
    "from pathlib import Path\n",
    "\n",
    "import matplotlib.pyplot as plt\n",
    "import nltk\n",
    "import numpy as np\n",
    "import pandas as pd\n",
    "import seaborn as sns\n",
    "\n",
    "from nltk.corpus import stopwords\n",
    "from scipy.stats import randint, uniform, loguniform\n",
    "from sklearn.feature_extraction.text import TfidfVectorizer\n",
    "from sklearn.metrics import accuracy_score, confusion_matrix, ConfusionMatrixDisplay\n",
    "from sklearn.model_selection import train_test_split, cross_val_score, StratifiedKFold, GridSearchCV, RandomizedSearchCV\n",
    "from sklearn.pipeline import Pipeline\n",
    "from sklearn.svm import SVC\n",
    "\n",
    "import helper_functions as funcs\n",
    "\n",
    "nltk.download('stopwords')\n",
    "\n",
    "RANDOM_SEED = 315\n",
    "CLASS_WEIGHT = None\n",
    "N_SPLITS = 3\n",
    "\n",
    "CV = StratifiedKFold(\n",
    "    n_splits=N_SPLITS,\n",
    "    shuffle=True,\n",
    "    random_state=RANDOM_SEED\n",
    ")\n",
    "\n",
    "# Hyperparameter search settings\n",
    "N_JOBS = 18\n",
    "N_ITER = 100000"
   ]
  },
  {
   "cell_type": "markdown",
   "metadata": {},
   "source": [
    "## 1. Data loading\n",
    "\n",
    "### 1.1. Load data from URL"
   ]
  },
  {
   "cell_type": "code",
   "execution_count": 2,
   "metadata": {},
   "outputs": [],
   "source": [
    "# Read csv file into dataframe\n",
    "data_df = pd.read_csv('https://raw.githubusercontent.com/4GeeksAcademy/NLP-project-tutorial/main/url_spam.csv')\n",
    "\n",
    "# Drop duplicates if any\n",
    "data_df.drop_duplicates(inplace=True)\n",
    "data_df.reset_index(inplace=True, drop=True)"
   ]
  },
  {
   "cell_type": "markdown",
   "metadata": {},
   "source": [
    "### 1.2. Save a local copy"
   ]
  },
  {
   "cell_type": "code",
   "execution_count": 3,
   "metadata": {},
   "outputs": [],
   "source": [
    "# Make a directory for raw data\n",
    "Path('../data/raw').mkdir(exist_ok=True, parents=True)\n",
    "\n",
    "# Save a local copy of the raw data\n",
    "data_df.to_parquet('../data/raw/urls.parquet')"
   ]
  },
  {
   "cell_type": "markdown",
   "metadata": {},
   "source": [
    "### 1.3. Inspect the data"
   ]
  },
  {
   "cell_type": "code",
   "execution_count": 4,
   "metadata": {},
   "outputs": [
    {
     "data": {
      "text/html": [
       "<div>\n",
       "<style scoped>\n",
       "    .dataframe tbody tr th:only-of-type {\n",
       "        vertical-align: middle;\n",
       "    }\n",
       "\n",
       "    .dataframe tbody tr th {\n",
       "        vertical-align: top;\n",
       "    }\n",
       "\n",
       "    .dataframe thead th {\n",
       "        text-align: right;\n",
       "    }\n",
       "</style>\n",
       "<table border=\"1\" class=\"dataframe\">\n",
       "  <thead>\n",
       "    <tr style=\"text-align: right;\">\n",
       "      <th></th>\n",
       "      <th>url</th>\n",
       "      <th>is_spam</th>\n",
       "    </tr>\n",
       "  </thead>\n",
       "  <tbody>\n",
       "    <tr>\n",
       "      <th>0</th>\n",
       "      <td>https://briefingday.us8.list-manage.com/unsubs...</td>\n",
       "      <td>True</td>\n",
       "    </tr>\n",
       "    <tr>\n",
       "      <th>1</th>\n",
       "      <td>https://www.hvper.com/</td>\n",
       "      <td>True</td>\n",
       "    </tr>\n",
       "    <tr>\n",
       "      <th>2</th>\n",
       "      <td>https://briefingday.com/m/v4n3i4f3</td>\n",
       "      <td>True</td>\n",
       "    </tr>\n",
       "    <tr>\n",
       "      <th>3</th>\n",
       "      <td>https://briefingday.com/n/20200618/m#commentform</td>\n",
       "      <td>False</td>\n",
       "    </tr>\n",
       "    <tr>\n",
       "      <th>4</th>\n",
       "      <td>https://briefingday.com/fan</td>\n",
       "      <td>True</td>\n",
       "    </tr>\n",
       "  </tbody>\n",
       "</table>\n",
       "</div>"
      ],
      "text/plain": [
       "                                                 url  is_spam\n",
       "0  https://briefingday.us8.list-manage.com/unsubs...     True\n",
       "1                             https://www.hvper.com/     True\n",
       "2                 https://briefingday.com/m/v4n3i4f3     True\n",
       "3   https://briefingday.com/n/20200618/m#commentform    False\n",
       "4                        https://briefingday.com/fan     True"
      ]
     },
     "execution_count": 4,
     "metadata": {},
     "output_type": "execute_result"
    }
   ],
   "source": [
    "data_df.head()"
   ]
  },
  {
   "cell_type": "code",
   "execution_count": 5,
   "metadata": {},
   "outputs": [
    {
     "name": "stdout",
     "output_type": "stream",
     "text": [
      "<class 'pandas.core.frame.DataFrame'>\n",
      "RangeIndex: 2369 entries, 0 to 2368\n",
      "Data columns (total 2 columns):\n",
      " #   Column   Non-Null Count  Dtype \n",
      "---  ------   --------------  ----- \n",
      " 0   url      2369 non-null   object\n",
      " 1   is_spam  2369 non-null   bool  \n",
      "dtypes: bool(1), object(1)\n",
      "memory usage: 21.0+ KB\n"
     ]
    }
   ],
   "source": [
    "data_df.info()"
   ]
  },
  {
   "cell_type": "markdown",
   "metadata": {},
   "source": [
    "## 2. EDA\n",
    "\n",
    "### 2.1. Label frequency"
   ]
  },
  {
   "cell_type": "code",
   "execution_count": 6,
   "metadata": {},
   "outputs": [
    {
     "name": "stdout",
     "output_type": "stream",
     "text": [
      "URLs are 89.7% not spam\n"
     ]
    }
   ],
   "source": [
    "label_counts = data_df['is_spam'].value_counts()\n",
    "\n",
    "not_spam = label_counts.iloc[0]\n",
    "spam = label_counts.iloc[1]\n",
    "\n",
    "print(f'URLs are {(not_spam/(spam + not_spam)*100):.1f}% not spam')"
   ]
  },
  {
   "cell_type": "markdown",
   "metadata": {},
   "source": [
    "### 2.2. URL length distribution"
   ]
  },
  {
   "cell_type": "code",
   "execution_count": 7,
   "metadata": {},
   "outputs": [
    {
     "data": {
      "image/png": "[encoded data removed]",
      "text/plain": [
       "<Figure size 640x480 with 1 Axes>"
      ]
     },
     "metadata": {},
     "output_type": "display_data"
    },
    {
     "name": "stdout",
     "output_type": "stream",
     "text": [
      "URL length mean: 79\n",
      "URL length min: 16\n",
      "URL length max: 269\n"
     ]
    }
   ],
   "source": [
    "data_df['URL_length'] = data_df['url'].str.len().tolist()\n",
    "\n",
    "plt.title('URL length distribution')\n",
    "plt.xlabel('Characters')\n",
    "plt.ylabel('URLs')\n",
    "plt.hist(data_df['URL_length'], bins=30, color='black')\n",
    "plt.show()\n",
    "\n",
    "print(f\"URL length mean: {np.mean(data_df['URL_length']):.0f}\")\n",
    "print(f\"URL length min: {min(data_df['URL_length']):.0f}\")\n",
    "print(f\"URL length max: {max(data_df['URL_length']):.0f}\")"
   ]
  },
  {
   "cell_type": "markdown",
   "metadata": {},
   "source": [
    "### 2.3. Short URLs"
   ]
  },
  {
   "cell_type": "code",
   "execution_count": 8,
   "metadata": {},
   "outputs": [
    {
     "data": {
      "text/html": [
       "<div>\n",
       "<style scoped>\n",
       "    .dataframe tbody tr th:only-of-type {\n",
       "        vertical-align: middle;\n",
       "    }\n",
       "\n",
       "    .dataframe tbody tr th {\n",
       "        vertical-align: top;\n",
       "    }\n",
       "\n",
       "    .dataframe thead th {\n",
       "        text-align: right;\n",
       "    }\n",
       "</style>\n",
       "<table border=\"1\" class=\"dataframe\">\n",
       "  <thead>\n",
       "    <tr style=\"text-align: right;\">\n",
       "      <th></th>\n",
       "      <th>url</th>\n",
       "      <th>is_spam</th>\n",
       "      <th>URL_length</th>\n",
       "    </tr>\n",
       "  </thead>\n",
       "  <tbody>\n",
       "    <tr>\n",
       "      <th>150</th>\n",
       "      <td>https://neeva.co/</td>\n",
       "      <td>False</td>\n",
       "      <td>17</td>\n",
       "    </tr>\n",
       "    <tr>\n",
       "      <th>656</th>\n",
       "      <td>https://qz.com/app/</td>\n",
       "      <td>False</td>\n",
       "      <td>19</td>\n",
       "    </tr>\n",
       "    <tr>\n",
       "      <th>676</th>\n",
       "      <td>https://digg.com/</td>\n",
       "      <td>True</td>\n",
       "      <td>17</td>\n",
       "    </tr>\n",
       "    <tr>\n",
       "      <th>728</th>\n",
       "      <td>https://uqora.com/</td>\n",
       "      <td>True</td>\n",
       "      <td>18</td>\n",
       "    </tr>\n",
       "    <tr>\n",
       "      <th>963</th>\n",
       "      <td>https://tim.blog/</td>\n",
       "      <td>True</td>\n",
       "      <td>17</td>\n",
       "    </tr>\n",
       "    <tr>\n",
       "      <th>971</th>\n",
       "      <td>http://abw.blue/</td>\n",
       "      <td>False</td>\n",
       "      <td>16</td>\n",
       "    </tr>\n",
       "    <tr>\n",
       "      <th>978</th>\n",
       "      <td>https://mowned.com/</td>\n",
       "      <td>False</td>\n",
       "      <td>19</td>\n",
       "    </tr>\n",
       "    <tr>\n",
       "      <th>995</th>\n",
       "      <td>https://waxy.org/</td>\n",
       "      <td>True</td>\n",
       "      <td>17</td>\n",
       "    </tr>\n",
       "    <tr>\n",
       "      <th>1158</th>\n",
       "      <td>https://hey.com/</td>\n",
       "      <td>True</td>\n",
       "      <td>16</td>\n",
       "    </tr>\n",
       "    <tr>\n",
       "      <th>1469</th>\n",
       "      <td>https://woven.com/</td>\n",
       "      <td>False</td>\n",
       "      <td>18</td>\n",
       "    </tr>\n",
       "    <tr>\n",
       "      <th>1480</th>\n",
       "      <td>https://trends.co/</td>\n",
       "      <td>True</td>\n",
       "      <td>18</td>\n",
       "    </tr>\n",
       "    <tr>\n",
       "      <th>1511</th>\n",
       "      <td>https://lithub.com/</td>\n",
       "      <td>False</td>\n",
       "      <td>19</td>\n",
       "    </tr>\n",
       "    <tr>\n",
       "      <th>1512</th>\n",
       "      <td>https://skift.com/</td>\n",
       "      <td>False</td>\n",
       "      <td>18</td>\n",
       "    </tr>\n",
       "    <tr>\n",
       "      <th>1516</th>\n",
       "      <td>https://food52.com/</td>\n",
       "      <td>False</td>\n",
       "      <td>19</td>\n",
       "    </tr>\n",
       "    <tr>\n",
       "      <th>1524</th>\n",
       "      <td>https://prose.com/</td>\n",
       "      <td>False</td>\n",
       "      <td>18</td>\n",
       "    </tr>\n",
       "    <tr>\n",
       "      <th>1692</th>\n",
       "      <td>https://buffer.com/</td>\n",
       "      <td>False</td>\n",
       "      <td>19</td>\n",
       "    </tr>\n",
       "    <tr>\n",
       "      <th>1951</th>\n",
       "      <td>https://fat.gold/</td>\n",
       "      <td>False</td>\n",
       "      <td>17</td>\n",
       "    </tr>\n",
       "  </tbody>\n",
       "</table>\n",
       "</div>"
      ],
      "text/plain": [
       "                      url  is_spam  URL_length\n",
       "150     https://neeva.co/    False          17\n",
       "656   https://qz.com/app/    False          19\n",
       "676     https://digg.com/     True          17\n",
       "728    https://uqora.com/     True          18\n",
       "963     https://tim.blog/     True          17\n",
       "971      http://abw.blue/    False          16\n",
       "978   https://mowned.com/    False          19\n",
       "995     https://waxy.org/     True          17\n",
       "1158     https://hey.com/     True          16\n",
       "1469   https://woven.com/    False          18\n",
       "1480   https://trends.co/     True          18\n",
       "1511  https://lithub.com/    False          19\n",
       "1512   https://skift.com/    False          18\n",
       "1516  https://food52.com/    False          19\n",
       "1524   https://prose.com/    False          18\n",
       "1692  https://buffer.com/    False          19\n",
       "1951    https://fat.gold/    False          17"
      ]
     },
     "execution_count": 8,
     "metadata": {},
     "output_type": "execute_result"
    }
   ],
   "source": [
    "short_urls = data_df[data_df['URL_length'] < 20]\n",
    "short_urls"
   ]
  },
  {
   "cell_type": "markdown",
   "metadata": {},
   "source": [
    "### 2.4. Long URLs"
   ]
  },
  {
   "cell_type": "code",
   "execution_count": 9,
   "metadata": {},
   "outputs": [
    {
     "data": {
      "text/html": [
       "<div>\n",
       "<style scoped>\n",
       "    .dataframe tbody tr th:only-of-type {\n",
       "        vertical-align: middle;\n",
       "    }\n",
       "\n",
       "    .dataframe tbody tr th {\n",
       "        vertical-align: top;\n",
       "    }\n",
       "\n",
       "    .dataframe thead th {\n",
       "        text-align: right;\n",
       "    }\n",
       "</style>\n",
       "<table border=\"1\" class=\"dataframe\">\n",
       "  <thead>\n",
       "    <tr style=\"text-align: right;\">\n",
       "      <th></th>\n",
       "      <th>url</th>\n",
       "      <th>is_spam</th>\n",
       "      <th>URL_length</th>\n",
       "    </tr>\n",
       "  </thead>\n",
       "  <tbody>\n",
       "    <tr>\n",
       "      <th>472</th>\n",
       "      <td>https://www.youtube.com/watch?v=4An0ndagZsQ&amp;fe...</td>\n",
       "      <td>False</td>\n",
       "      <td>244</td>\n",
       "    </tr>\n",
       "    <tr>\n",
       "      <th>479</th>\n",
       "      <td>https://www.youtube.com/watch?v=oieBnV_HFB0&amp;fe...</td>\n",
       "      <td>False</td>\n",
       "      <td>244</td>\n",
       "    </tr>\n",
       "    <tr>\n",
       "      <th>480</th>\n",
       "      <td>https://www.youtube.com/watch?v=PQmDUEv939A&amp;fe...</td>\n",
       "      <td>False</td>\n",
       "      <td>244</td>\n",
       "    </tr>\n",
       "    <tr>\n",
       "      <th>481</th>\n",
       "      <td>https://www.youtube.com/watch?v=QrGEIWe0JXY&amp;fe...</td>\n",
       "      <td>False</td>\n",
       "      <td>244</td>\n",
       "    </tr>\n",
       "    <tr>\n",
       "      <th>587</th>\n",
       "      <td>https://www.youtube.com/watch?v=S0qrinhNnOM&amp;fe...</td>\n",
       "      <td>False</td>\n",
       "      <td>244</td>\n",
       "    </tr>\n",
       "    <tr>\n",
       "      <th>663</th>\n",
       "      <td>https://www.youtube.com/watch?v=gbCREJh6aCc&amp;fe...</td>\n",
       "      <td>False</td>\n",
       "      <td>244</td>\n",
       "    </tr>\n",
       "    <tr>\n",
       "      <th>914</th>\n",
       "      <td>https://www.npr.org/sections/live-updates-prot...</td>\n",
       "      <td>False</td>\n",
       "      <td>269</td>\n",
       "    </tr>\n",
       "    <tr>\n",
       "      <th>1285</th>\n",
       "      <td>https://www.youtube.com/watch?v=SrLZgP-OR6s&amp;ut...</td>\n",
       "      <td>False</td>\n",
       "      <td>227</td>\n",
       "    </tr>\n",
       "    <tr>\n",
       "      <th>1286</th>\n",
       "      <td>https://www.youtube.com/watch?v=N13WI3oVda8&amp;ut...</td>\n",
       "      <td>False</td>\n",
       "      <td>227</td>\n",
       "    </tr>\n",
       "    <tr>\n",
       "      <th>1290</th>\n",
       "      <td>https://www.youtube.com/watch?v=Yz3mQhuMACs&amp;fe...</td>\n",
       "      <td>False</td>\n",
       "      <td>244</td>\n",
       "    </tr>\n",
       "    <tr>\n",
       "      <th>1703</th>\n",
       "      <td>https://www.youtube.com/watch?v=S97MaG3kOMY&amp;fe...</td>\n",
       "      <td>False</td>\n",
       "      <td>244</td>\n",
       "    </tr>\n",
       "    <tr>\n",
       "      <th>1709</th>\n",
       "      <td>https://www.youtube.com/watch?v=dOaa3Znh75w&amp;fe...</td>\n",
       "      <td>False</td>\n",
       "      <td>244</td>\n",
       "    </tr>\n",
       "    <tr>\n",
       "      <th>1710</th>\n",
       "      <td>https://www.youtube.com/watch?v=7xQQkzWhMOc&amp;fe...</td>\n",
       "      <td>False</td>\n",
       "      <td>244</td>\n",
       "    </tr>\n",
       "    <tr>\n",
       "      <th>1712</th>\n",
       "      <td>https://www.youtube.com/watch?v=js_FjrxJuxA&amp;fe...</td>\n",
       "      <td>False</td>\n",
       "      <td>244</td>\n",
       "    </tr>\n",
       "    <tr>\n",
       "      <th>1713</th>\n",
       "      <td>https://www.youtube.com/watch?v=Or-0emJG348&amp;fe...</td>\n",
       "      <td>False</td>\n",
       "      <td>244</td>\n",
       "    </tr>\n",
       "    <tr>\n",
       "      <th>1847</th>\n",
       "      <td>https://www.businessinsider.com/air-traffic-du...</td>\n",
       "      <td>False</td>\n",
       "      <td>215</td>\n",
       "    </tr>\n",
       "    <tr>\n",
       "      <th>1866</th>\n",
       "      <td>https://www.washingtonpost.com/national-securi...</td>\n",
       "      <td>False</td>\n",
       "      <td>222</td>\n",
       "    </tr>\n",
       "    <tr>\n",
       "      <th>2159</th>\n",
       "      <td>https://www.washingtonpost.com/politics/courts...</td>\n",
       "      <td>False</td>\n",
       "      <td>238</td>\n",
       "    </tr>\n",
       "    <tr>\n",
       "      <th>2160</th>\n",
       "      <td>https://www.washingtonpost.com/politics/courts...</td>\n",
       "      <td>False</td>\n",
       "      <td>201</td>\n",
       "    </tr>\n",
       "    <tr>\n",
       "      <th>2319</th>\n",
       "      <td>https://www.washingtonpost.com/world/europe/ru...</td>\n",
       "      <td>False</td>\n",
       "      <td>218</td>\n",
       "    </tr>\n",
       "    <tr>\n",
       "      <th>2320</th>\n",
       "      <td>https://www.washingtonpost.com/local/public-sa...</td>\n",
       "      <td>False</td>\n",
       "      <td>208</td>\n",
       "    </tr>\n",
       "  </tbody>\n",
       "</table>\n",
       "</div>"
      ],
      "text/plain": [
       "                                                    url  is_spam  URL_length\n",
       "472   https://www.youtube.com/watch?v=4An0ndagZsQ&fe...    False         244\n",
       "479   https://www.youtube.com/watch?v=oieBnV_HFB0&fe...    False         244\n",
       "480   https://www.youtube.com/watch?v=PQmDUEv939A&fe...    False         244\n",
       "481   https://www.youtube.com/watch?v=QrGEIWe0JXY&fe...    False         244\n",
       "587   https://www.youtube.com/watch?v=S0qrinhNnOM&fe...    False         244\n",
       "663   https://www.youtube.com/watch?v=gbCREJh6aCc&fe...    False         244\n",
       "914   https://www.npr.org/sections/live-updates-prot...    False         269\n",
       "1285  https://www.youtube.com/watch?v=SrLZgP-OR6s&ut...    False         227\n",
       "1286  https://www.youtube.com/watch?v=N13WI3oVda8&ut...    False         227\n",
       "1290  https://www.youtube.com/watch?v=Yz3mQhuMACs&fe...    False         244\n",
       "1703  https://www.youtube.com/watch?v=S97MaG3kOMY&fe...    False         244\n",
       "1709  https://www.youtube.com/watch?v=dOaa3Znh75w&fe...    False         244\n",
       "1710  https://www.youtube.com/watch?v=7xQQkzWhMOc&fe...    False         244\n",
       "1712  https://www.youtube.com/watch?v=js_FjrxJuxA&fe...    False         244\n",
       "1713  https://www.youtube.com/watch?v=Or-0emJG348&fe...    False         244\n",
       "1847  https://www.businessinsider.com/air-traffic-du...    False         215\n",
       "1866  https://www.washingtonpost.com/national-securi...    False         222\n",
       "2159  https://www.washingtonpost.com/politics/courts...    False         238\n",
       "2160  https://www.washingtonpost.com/politics/courts...    False         201\n",
       "2319  https://www.washingtonpost.com/world/europe/ru...    False         218\n",
       "2320  https://www.washingtonpost.com/local/public-sa...    False         208"
      ]
     },
     "execution_count": 9,
     "metadata": {},
     "output_type": "execute_result"
    }
   ],
   "source": [
    "long_urls = data_df[data_df['URL_length'] > 200]\n",
    "long_urls"
   ]
  },
  {
   "cell_type": "markdown",
   "metadata": {},
   "source": [
    "## 3. Data preprocessing"
   ]
  },
  {
   "cell_type": "markdown",
   "metadata": {},
   "source": [
    "### 3.1. Label encoding"
   ]
  },
  {
   "cell_type": "code",
   "execution_count": 10,
   "metadata": {},
   "outputs": [],
   "source": [
    "data_df['is_spam'] = data_df['is_spam'].astype(str)\n",
    "data_df['is_spam'] = data_df['is_spam'].replace({'True': '1', 'False': '0'})\n",
    "data_df['is_spam'] = data_df['is_spam'].astype(int)"
   ]
  },
  {
   "cell_type": "markdown",
   "metadata": {},
   "source": [
    "### 3.2. Train test split"
   ]
  },
  {
   "cell_type": "code",
   "execution_count": 11,
   "metadata": {},
   "outputs": [],
   "source": [
    "train_df, test_df = train_test_split(data_df, test_size=0.3, random_state=RANDOM_SEED)"
   ]
  },
  {
   "cell_type": "markdown",
   "metadata": {},
   "source": [
    "### 3.3. URL vectorization"
   ]
  },
  {
   "cell_type": "code",
   "execution_count": 12,
   "metadata": {},
   "outputs": [
    {
     "data": {
      "text/plain": [
       "<Compressed Sparse Row sparse matrix of dtype 'float64'\n",
       "\twith 19360 stored elements and shape (1658, 5357)>"
      ]
     },
     "execution_count": 12,
     "metadata": {},
     "output_type": "execute_result"
    }
   ],
   "source": [
    "# Vectorize the URLs using TF-IDF\n",
    "vectorizer = TfidfVectorizer()\n",
    "train_urls = vectorizer.fit_transform(train_df['url'])\n",
    "test_urls = vectorizer.transform(test_df['url'])\n",
    "\n",
    "# Get the words from the vector model\n",
    "feature_names = vectorizer.get_feature_names_out()\n",
    "\n",
    "train_urls"
   ]
  },
  {
   "cell_type": "code",
   "execution_count": 13,
   "metadata": {},
   "outputs": [
    {
     "data": {
      "text/plain": [
       "array(['0027', '003722', '01', ..., 'zuckerberg', 'zwift', 'zyguxzjc_cs'],\n",
       "      shape=(5357,), dtype=object)"
      ]
     },
     "execution_count": 13,
     "metadata": {},
     "output_type": "execute_result"
    }
   ],
   "source": [
    "feature_names"
   ]
  },
  {
   "cell_type": "markdown",
   "metadata": {},
   "source": [
    "### 3.4. Mean TF-IDF value distribution"
   ]
  },
  {
   "cell_type": "code",
   "execution_count": 14,
   "metadata": {},
   "outputs": [
    {
     "data": {
      "image/png": "[encoded data removed]",
      "text/plain": [
       "<Figure size 640x480 with 1 Axes>"
      ]
     },
     "metadata": {},
     "output_type": "display_data"
    }
   ],
   "source": [
    "# Get the mean TF-IDF value for each feature\n",
    "feature_means = np.mean(train_urls.toarray(), axis=1)\n",
    "\n",
    "plt.title('Mean TF-IDF distribution')\n",
    "plt.xlabel('Mean TF-IDF')\n",
    "plt.ylabel('Features')\n",
    "plt.hist(feature_means, bins=30, color='black')\n",
    "plt.yscale('log')\n",
    "plt.show()"
   ]
  },
  {
   "cell_type": "markdown",
   "metadata": {},
   "source": [
    "## 3. SVM model\n",
    "\n",
    "### 3.1. Baseline model performance"
   ]
  },
  {
   "cell_type": "code",
   "execution_count": 15,
   "metadata": {},
   "outputs": [
    {
     "name": "stdout",
     "output_type": "stream",
     "text": [
      "Naive SVC cross validation accuracy: 92.5+/-0.4%\n"
     ]
    }
   ],
   "source": [
    "# Instantiate the support vector machine classifier with defaults\n",
    "naive_svc = SVC(class_weight=CLASS_WEIGHT, random_state=RANDOM_SEED)\n",
    "\n",
    "# Cross-validate the default model on the encoded training data\n",
    "scores = cross_val_score(\n",
    "    naive_svc,\n",
    "    train_urls,\n",
    "    train_df['is_spam'],\n",
    "    cv=CV,\n",
    "    n_jobs=-1\n",
    ")\n",
    "\n",
    "# Save the baseline cross-validation scores for later\n",
    "cross_val_scores = {\n",
    "    'Model': ['Naive SVC']*N_SPLITS,\n",
    "    'Score': list(scores)\n",
    "}\n",
    "\n",
    "print(f'Naive SVC cross validation accuracy: {np.mean(scores)*100:.1f}+/-{np.std(scores)*100:.1f}%')"
   ]
  },
  {
   "cell_type": "markdown",
   "metadata": {},
   "source": [
    "### 3.2. SVC hyperparameter optimization"
   ]
  },
  {
   "cell_type": "code",
   "execution_count": 16,
   "metadata": {},
   "outputs": [
    {
     "name": "stdout",
     "output_type": "stream",
     "text": [
      "Best hyperparameters:\n",
      "\n",
      " C: 10\n",
      " decision_function_shape: ovo\n",
      " degree: 2\n",
      " gamma: scale\n",
      " kernel: sigmoid\n",
      " shrinking: True\n"
     ]
    }
   ],
   "source": [
    "# Set the hyperparameter search space\n",
    "hyperparameters = {\n",
    "    'C': [0.01, 0.1, 1, 10],\n",
    "    'kernel': ['linear', 'poly', 'rbf', 'sigmoid'],\n",
    "    'degree': [2, 3, 4],\n",
    "    'gamma': ['scale', 'auto'],\n",
    "    'shrinking': [True, False],\n",
    "    'decision_function_shape': ['ovo', 'ovr']\n",
    "}\n",
    "\n",
    "# Instantiate a new model\n",
    "model = SVC(class_weight=CLASS_WEIGHT, random_state=RANDOM_SEED)\n",
    "\n",
    "# Set up the grid search\n",
    "grid = GridSearchCV(model, hyperparameters, scoring='accuracy', cv=CV, n_jobs=N_JOBS)\n",
    "\n",
    "# Run the search\n",
    "optimization_results = grid.fit(train_urls, train_df['is_spam'])\n",
    "\n",
    "# Recover winning model & hyperparameters\n",
    "best_model = grid.best_estimator_\n",
    "best_hyperparameters = grid.best_params_\n",
    "\n",
    "print(f'Best hyperparameters:\\n')\n",
    "\n",
    "for key, val in best_hyperparameters.items():\n",
    "    print(f' {key}: {val}')"
   ]
  },
  {
   "cell_type": "code",
   "execution_count": 17,
   "metadata": {},
   "outputs": [
    {
     "data": {
      "image/png": "[encoded data removed]",
      "text/plain": [
       "<Figure size 640x480 with 1 Axes>"
      ]
     },
     "metadata": {},
     "output_type": "display_data"
    }
   ],
   "source": [
    "funcs.plot_cross_validation(optimization_results)"
   ]
  },
  {
   "cell_type": "code",
   "execution_count": 18,
   "metadata": {},
   "outputs": [
    {
     "name": "stdout",
     "output_type": "stream",
     "text": [
      "Optimized SVC cross validation accuracy: 94.5+/-0.3%\n"
     ]
    }
   ],
   "source": [
    "# Cross-validate the optimized model on the encoded training data\n",
    "scores = cross_val_score(\n",
    "    best_model,\n",
    "    train_urls,\n",
    "    train_df['is_spam'],\n",
    "    cv=CV,\n",
    "    n_jobs=-1\n",
    ")\n",
    "\n",
    "# Save the optimized cross-validation scores for later\n",
    "cross_val_scores['Model'].extend(['Optimized SVC']*N_SPLITS)\n",
    "cross_val_scores['Score'].extend(scores)\n",
    "\n",
    "print(f'Optimized SVC cross validation accuracy: {np.mean(scores)*100:.1f}+/-{np.std(scores)*100:.1f}%')"
   ]
  },
  {
   "cell_type": "markdown",
   "metadata": {},
   "source": [
    "### 3.3. TFIDFVectorizer + SVC hyperparameter optimization"
   ]
  },
  {
   "cell_type": "code",
   "execution_count": 19,
   "metadata": {},
   "outputs": [
    {
     "name": "stdout",
     "output_type": "stream",
     "text": [
      "Best hyperparameters:\n",
      "\n",
      " SVC__C: 40.86561781919791\n",
      " SVC__decision_function_shape: ovo\n",
      " SVC__degree: 2\n",
      " SVC__gamma: scale\n",
      " SVC__kernel: rbf\n",
      " SVC__shrinking: True\n",
      " TFIDF__binary: True\n",
      " TFIDF__max_df: 0.39121265405754313\n",
      " TFIDF__max_features: 1126\n",
      " TFIDF__min_df: 0.00029490405457968167\n",
      " TFIDF__ngram_range: (1, 1)\n",
      " TFIDF__norm: l2\n",
      " TFIDF__smooth_idf: False\n",
      " TFIDF__stop_words: None\n",
      " TFIDF__strip_accents: ascii\n",
      " TFIDF__sublinear_tf: False\n",
      " TFIDF__use_idf: False\n"
     ]
    }
   ],
   "source": [
    "tfidf = TfidfVectorizer()\n",
    "svc = SVC(class_weight=CLASS_WEIGHT, random_state=RANDOM_SEED)\n",
    "\n",
    "# Create pipeline with PCA, scaling, and classifier\n",
    "pipe = Pipeline(steps=[('TFIDF', tfidf), ('SVC', svc)])\n",
    "\n",
    "hyperparameters = {\n",
    "    'TFIDF__strip_accents': ['ascii', 'unicode', None],\n",
    "    'TFIDF__stop_words': ['english', stopwords.words('english'), None],\n",
    "    'TFIDF__ngram_range': [(1,1), (1,2), (2,2)],\n",
    "    'TFIDF__max_df': uniform(loc=0.0009, scale=0.9991),\n",
    "    'TFIDF__min_df': uniform(loc=0.0, scale=0.0004),\n",
    "    'TFIDF__max_features': randint(1, len(feature_names)),\n",
    "    'TFIDF__binary': [True, False],\n",
    "    'TFIDF__norm': ['l1', 'l2', None],\n",
    "    'TFIDF__use_idf': [True, False],\n",
    "    'TFIDF__smooth_idf': [True, False],\n",
    "    'TFIDF__sublinear_tf': [True, False],\n",
    "    'SVC__C': loguniform(10**-2, 100.0),\n",
    "    'SVC__kernel': ['linear', 'poly', 'rbf', 'sigmoid'],\n",
    "    'SVC__degree': [1, 2, 3],\n",
    "    'SVC__gamma': ['scale', 'auto'],\n",
    "    'SVC__shrinking': [True, False],\n",
    "    'SVC__decision_function_shape': ['ovo', 'ovr']\n",
    "}\n",
    "\n",
    "grid = RandomizedSearchCV(\n",
    "    pipe,\n",
    "    hyperparameters,\n",
    "    return_train_score=True,     # Return training scores for analysis\n",
    "    cv=CV,                       # Use stratified shuffle split for cross-validation\n",
    "    n_jobs=N_JOBS,               # Use all available CPU cores\n",
    "    n_iter=N_ITER,               # Number of parameter combinations to try\n",
    "    random_state=RANDOM_SEED     # Ensure reproducible results\n",
    ")\n",
    "\n",
    "# Run the search\n",
    "optimization_results = grid.fit(train_df['url'], train_df['is_spam'])\n",
    "\n",
    "# Recover winning model & hyperparameters\n",
    "best_model = grid.best_estimator_\n",
    "best_hyperparameters = grid.best_params_\n",
    "\n",
    "print(f'Best hyperparameters:\\n')\n",
    "\n",
    "for key, val in best_hyperparameters.items():\n",
    "    print(f' {key}: {val}')"
   ]
  },
  {
   "cell_type": "code",
   "execution_count": 20,
   "metadata": {},
   "outputs": [
    {
     "data": {
      "image/png": "[encoded data removed]",
      "text/plain": [
       "<Figure size 640x480 with 1 Axes>"
      ]
     },
     "metadata": {},
     "output_type": "display_data"
    }
   ],
   "source": [
    "funcs.plot_cross_validation(optimization_results)"
   ]
  },
  {
   "cell_type": "code",
   "execution_count": 21,
   "metadata": {},
   "outputs": [
    {
     "name": "stdout",
     "output_type": "stream",
     "text": [
      "Optimized TFIDF + SVC cross validation accuracy: 94.0+/-0.9%\n"
     ]
    }
   ],
   "source": [
    "# Cross-validate the optimized model on the encoded training data\n",
    "scores = cross_val_score(\n",
    "    best_model,\n",
    "    train_df['url'],\n",
    "    train_df['is_spam'],\n",
    "    cv=CV,\n",
    "    n_jobs=-1\n",
    ")\n",
    "\n",
    "# Save the optimized cross-validation scores for later\n",
    "cross_val_scores['Model'].extend(['Optimized TFIDF + SVC']*N_SPLITS)\n",
    "cross_val_scores['Score'].extend(scores)\n",
    "\n",
    "print(f'Optimized TFIDF + SVC cross validation accuracy: {np.mean(scores)*100:.1f}+/-{np.std(scores)*100:.1f}%')"
   ]
  },
  {
   "cell_type": "code",
   "execution_count": 22,
   "metadata": {},
   "outputs": [
    {
     "data": {
      "image/png": "[encoded data removed]",
      "text/plain": [
       "<Figure size 640x480 with 1 Axes>"
      ]
     },
     "metadata": {},
     "output_type": "display_data"
    }
   ],
   "source": [
    "sns.boxplot(pd.DataFrame.from_dict(cross_val_scores), x='Model', y='Score')\n",
    "plt.title('Model cross-validation performance comparison')\n",
    "plt.ylabel('Accuracy (%)')\n",
    "plt.show()"
   ]
  },
  {
   "cell_type": "markdown",
   "metadata": {},
   "source": [
    "## 4. Model evaluation"
   ]
  },
  {
   "cell_type": "code",
   "execution_count": 23,
   "metadata": {},
   "outputs": [
    {
     "data": {
      "image/png": "[encoded data removed]",
      "text/plain": [
       "<Figure size 640x480 with 2 Axes>"
      ]
     },
     "metadata": {},
     "output_type": "display_data"
    }
   ],
   "source": [
    "best_model.fit(train_df['url'], train_df['is_spam'],)\n",
    "predictions = best_model.predict(test_df['url'])\n",
    "\n",
    "accuracy = accuracy_score(predictions, test_df['is_spam'])*100\n",
    "\n",
    "# Plot the confusion matrix\n",
    "cm = confusion_matrix(test_df['is_spam'], predictions, normalize='true')\n",
    "cm_disp = ConfusionMatrixDisplay(confusion_matrix=cm)\n",
    "_ = cm_disp.plot()\n",
    "\n",
    "plt.title(f'Test set performance\\noverall accuracy: {accuracy:.1f}%')\n",
    "plt.xlabel('Predicted outcome')\n",
    "plt.ylabel('True outcome')\n",
    "plt.show()"
   ]
  }
 ],
 "metadata": {
  "kernelspec": {
   "display_name": "Python 3",
   "language": "python",
   "name": "python3"
  },
  "language_info": {
   "codemirror_mode": {
    "name": "ipython",
    "version": 3
   },
   "file_extension": ".py",
   "mimetype": "text/x-python",
   "name": "python",
   "nbconvert_exporter": "python",
   "pygments_lexer": "ipython3",
   "version": "3.11.4"
  },
  "orig_nbformat": 4
 },
 "nbformat": 4,
 "nbformat_minor": 2
}
